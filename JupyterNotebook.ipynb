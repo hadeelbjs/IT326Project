{
  "metadata": {
    "kernelspec": {
      "name": "python",
      "display_name": "Python (Pyodide)",
      "language": "python"
    },
    "language_info": {
      "codemirror_mode": {
        "name": "python",
        "version": 3
      },
      "file_extension": ".py",
      "mimetype": "text/x-python",
      "name": "python",
      "nbconvert_exporter": "python",
      "pygments_lexer": "ipython3",
      "version": "3.8"
    }
  },
  "nbformat_minor": 4,
  "nbformat": 4,
  "cells": [
    {
      "cell_type": "markdown",
      "source": "Obesity Level Prediction \n\n# 1. Goal of Collecting the Dataset\nThe goal of this dataset is to predict an individual's obesity level based on various personal, dietary, and lifestyle attributes. Machine learning models can analyze these factors to classify individuals into different obesity categories, such as normal weight, overweight, or obese.\n\n# 2. Source of the Dataset\nThe dataset is from https://www.kaggle.com/datasets/fatemehmehrparvar/obesity-levels.\n\n## 3. General Information about the Dataset\n\n- Number of Objects (Rows): 2,111\n- Number of Attributes (Columns): 17\n- *Types of Attributes*: \n  - Numerical: 8 columns (e.g., Age, Height, Weight)\n  - Categorical: 9 columns (e.g., Gender, Smoking, Obesity Level)\n    \n- **Class Name/Label**: The `NObeyesdad` column represents the obesity level, which includes categories like:\n  - Normal Weight\n  - Overweight Level I\n  - Overweight Level II\n  - Obesity Type I\n  - Obesity Type II",
      "metadata": {}
    },
    {
      "cell_type": "code",
      "source": "import pandas as pd\ndf = pd.read_csv('Dataset/dataset.csv');",
      "metadata": {
        "trusted": true
      },
      "outputs": [],
      "execution_count": 3
    },
    {
      "cell_type": "code",
      "source": "df.describe()",
      "metadata": {
        "trusted": true
      },
      "outputs": [
        {
          "execution_count": 5,
          "output_type": "execute_result",
          "data": {
            "text/plain": "               Age       Height       Weight         FCVC          NCP  \\\ncount  2111.000000  2111.000000  2111.000000  2111.000000  2111.000000   \nmean     24.312600     1.701677    86.586058     2.419043     2.685628   \nstd       6.345968     0.093305    26.191172     0.533927     0.778039   \nmin      14.000000     1.450000    39.000000     1.000000     1.000000   \n25%      19.947192     1.630000    65.473343     2.000000     2.658738   \n50%      22.777890     1.700499    83.000000     2.385502     3.000000   \n75%      26.000000     1.768464   107.430682     3.000000     3.000000   \nmax      61.000000     1.980000   173.000000     3.000000     4.000000   \n\n              CH2O          FAF          TUE  \ncount  2111.000000  2111.000000  2111.000000  \nmean      2.008011     1.010298     0.657866  \nstd       0.612953     0.850592     0.608927  \nmin       1.000000     0.000000     0.000000  \n25%       1.584812     0.124505     0.000000  \n50%       2.000000     1.000000     0.625350  \n75%       2.477420     1.666678     1.000000  \nmax       3.000000     3.000000     2.000000  ",
            "text/html": "<div>\n<style scoped>\n    .dataframe tbody tr th:only-of-type {\n        vertical-align: middle;\n    }\n\n    .dataframe tbody tr th {\n        vertical-align: top;\n    }\n\n    .dataframe thead th {\n        text-align: right;\n    }\n</style>\n<table border=\"1\" class=\"dataframe\">\n  <thead>\n    <tr style=\"text-align: right;\">\n      <th></th>\n      <th>Age</th>\n      <th>Height</th>\n      <th>Weight</th>\n      <th>FCVC</th>\n      <th>NCP</th>\n      <th>CH2O</th>\n      <th>FAF</th>\n      <th>TUE</th>\n    </tr>\n  </thead>\n  <tbody>\n    <tr>\n      <th>count</th>\n      <td>2111.000000</td>\n      <td>2111.000000</td>\n      <td>2111.000000</td>\n      <td>2111.000000</td>\n      <td>2111.000000</td>\n      <td>2111.000000</td>\n      <td>2111.000000</td>\n      <td>2111.000000</td>\n    </tr>\n    <tr>\n      <th>mean</th>\n      <td>24.312600</td>\n      <td>1.701677</td>\n      <td>86.586058</td>\n      <td>2.419043</td>\n      <td>2.685628</td>\n      <td>2.008011</td>\n      <td>1.010298</td>\n      <td>0.657866</td>\n    </tr>\n    <tr>\n      <th>std</th>\n      <td>6.345968</td>\n      <td>0.093305</td>\n      <td>26.191172</td>\n      <td>0.533927</td>\n      <td>0.778039</td>\n      <td>0.612953</td>\n      <td>0.850592</td>\n      <td>0.608927</td>\n    </tr>\n    <tr>\n      <th>min</th>\n      <td>14.000000</td>\n      <td>1.450000</td>\n      <td>39.000000</td>\n      <td>1.000000</td>\n      <td>1.000000</td>\n      <td>1.000000</td>\n      <td>0.000000</td>\n      <td>0.000000</td>\n    </tr>\n    <tr>\n      <th>25%</th>\n      <td>19.947192</td>\n      <td>1.630000</td>\n      <td>65.473343</td>\n      <td>2.000000</td>\n      <td>2.658738</td>\n      <td>1.584812</td>\n      <td>0.124505</td>\n      <td>0.000000</td>\n    </tr>\n    <tr>\n      <th>50%</th>\n      <td>22.777890</td>\n      <td>1.700499</td>\n      <td>83.000000</td>\n      <td>2.385502</td>\n      <td>3.000000</td>\n      <td>2.000000</td>\n      <td>1.000000</td>\n      <td>0.625350</td>\n    </tr>\n    <tr>\n      <th>75%</th>\n      <td>26.000000</td>\n      <td>1.768464</td>\n      <td>107.430682</td>\n      <td>3.000000</td>\n      <td>3.000000</td>\n      <td>2.477420</td>\n      <td>1.666678</td>\n      <td>1.000000</td>\n    </tr>\n    <tr>\n      <th>max</th>\n      <td>61.000000</td>\n      <td>1.980000</td>\n      <td>173.000000</td>\n      <td>3.000000</td>\n      <td>4.000000</td>\n      <td>3.000000</td>\n      <td>3.000000</td>\n      <td>2.000000</td>\n    </tr>\n  </tbody>\n</table>\n</div>"
          },
          "metadata": {}
        }
      ],
      "execution_count": 5
    }
  ]
}